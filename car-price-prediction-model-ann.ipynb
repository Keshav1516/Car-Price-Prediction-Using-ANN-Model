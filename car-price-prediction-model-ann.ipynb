{
 "cells": [
  {
   "cell_type": "code",
   "execution_count": 1,
   "id": "774ec2e5",
   "metadata": {
    "_cell_guid": "b1076dfc-b9ad-4769-8c92-a6c4dae69d19",
    "_uuid": "8f2839f25d086af736a60e9eeb907d3b93b6e0e5",
    "execution": {
     "iopub.execute_input": "2025-10-14T07:46:16.459445Z",
     "iopub.status.busy": "2025-10-14T07:46:16.458676Z",
     "iopub.status.idle": "2025-10-14T07:46:19.953617Z",
     "shell.execute_reply": "2025-10-14T07:46:19.952691Z"
    },
    "papermill": {
     "duration": 3.5028,
     "end_time": "2025-10-14T07:46:19.955172",
     "exception": false,
     "start_time": "2025-10-14T07:46:16.452372",
     "status": "completed"
    },
    "tags": []
   },
   "outputs": [
    {
     "name": "stdout",
     "output_type": "stream",
     "text": [
      "/kaggle/input/ann-car-sales-price-prediction/car_purchasing.csv\n"
     ]
    }
   ],
   "source": [
    "import numpy as np \n",
    "import pandas as pd \n",
    "import matplotlib.pyplot as plt\n",
    "import seaborn as sns\n",
    "\n",
    "import os\n",
    "for dirname, _, filenames in os.walk('/kaggle/input'):\n",
    "    for filename in filenames:\n",
    "        print(os.path.join(dirname, filename))"
   ]
  },
  {
   "cell_type": "code",
   "execution_count": 2,
   "id": "bdbee1de",
   "metadata": {
    "execution": {
     "iopub.execute_input": "2025-10-14T07:46:19.965423Z",
     "iopub.status.busy": "2025-10-14T07:46:19.964532Z",
     "iopub.status.idle": "2025-10-14T07:46:20.007511Z",
     "shell.execute_reply": "2025-10-14T07:46:20.006700Z"
    },
    "papermill": {
     "duration": 0.049364,
     "end_time": "2025-10-14T07:46:20.008963",
     "exception": false,
     "start_time": "2025-10-14T07:46:19.959599",
     "status": "completed"
    },
    "tags": []
   },
   "outputs": [
    {
     "data": {
      "text/html": [
       "<div>\n",
       "<style scoped>\n",
       "    .dataframe tbody tr th:only-of-type {\n",
       "        vertical-align: middle;\n",
       "    }\n",
       "\n",
       "    .dataframe tbody tr th {\n",
       "        vertical-align: top;\n",
       "    }\n",
       "\n",
       "    .dataframe thead th {\n",
       "        text-align: right;\n",
       "    }\n",
       "</style>\n",
       "<table border=\"1\" class=\"dataframe\">\n",
       "  <thead>\n",
       "    <tr style=\"text-align: right;\">\n",
       "      <th></th>\n",
       "      <th>customer name</th>\n",
       "      <th>customer e-mail</th>\n",
       "      <th>country</th>\n",
       "      <th>gender</th>\n",
       "      <th>age</th>\n",
       "      <th>annual Salary</th>\n",
       "      <th>credit card debt</th>\n",
       "      <th>net worth</th>\n",
       "      <th>car purchase amount</th>\n",
       "    </tr>\n",
       "  </thead>\n",
       "  <tbody>\n",
       "    <tr>\n",
       "      <th>0</th>\n",
       "      <td>Martina Avila</td>\n",
       "      <td>cubilia.Curae.Phasellus@quisaccumsanconvallis.edu</td>\n",
       "      <td>Bulgaria</td>\n",
       "      <td>0</td>\n",
       "      <td>41.851720</td>\n",
       "      <td>62812.09301</td>\n",
       "      <td>11609.380910</td>\n",
       "      <td>238961.2505</td>\n",
       "      <td>35321.45877</td>\n",
       "    </tr>\n",
       "    <tr>\n",
       "      <th>1</th>\n",
       "      <td>Harlan Barnes</td>\n",
       "      <td>eu.dolor@diam.co.uk</td>\n",
       "      <td>Belize</td>\n",
       "      <td>0</td>\n",
       "      <td>40.870623</td>\n",
       "      <td>66646.89292</td>\n",
       "      <td>9572.957136</td>\n",
       "      <td>530973.9078</td>\n",
       "      <td>45115.52566</td>\n",
       "    </tr>\n",
       "    <tr>\n",
       "      <th>2</th>\n",
       "      <td>Naomi Rodriquez</td>\n",
       "      <td>vulputate.mauris.sagittis@ametconsectetueradip...</td>\n",
       "      <td>Algeria</td>\n",
       "      <td>1</td>\n",
       "      <td>43.152897</td>\n",
       "      <td>53798.55112</td>\n",
       "      <td>11160.355060</td>\n",
       "      <td>638467.1773</td>\n",
       "      <td>42925.70921</td>\n",
       "    </tr>\n",
       "    <tr>\n",
       "      <th>3</th>\n",
       "      <td>Jade Cunningham</td>\n",
       "      <td>malesuada@dignissim.com</td>\n",
       "      <td>Cook Islands</td>\n",
       "      <td>1</td>\n",
       "      <td>58.271369</td>\n",
       "      <td>79370.03798</td>\n",
       "      <td>14426.164850</td>\n",
       "      <td>548599.0524</td>\n",
       "      <td>67422.36313</td>\n",
       "    </tr>\n",
       "    <tr>\n",
       "      <th>4</th>\n",
       "      <td>Cedric Leach</td>\n",
       "      <td>felis.ullamcorper.viverra@egetmollislectus.net</td>\n",
       "      <td>Brazil</td>\n",
       "      <td>1</td>\n",
       "      <td>57.313749</td>\n",
       "      <td>59729.15130</td>\n",
       "      <td>5358.712177</td>\n",
       "      <td>560304.0671</td>\n",
       "      <td>55915.46248</td>\n",
       "    </tr>\n",
       "  </tbody>\n",
       "</table>\n",
       "</div>"
      ],
      "text/plain": [
       "     customer name                                    customer e-mail  \\\n",
       "0    Martina Avila  cubilia.Curae.Phasellus@quisaccumsanconvallis.edu   \n",
       "1    Harlan Barnes                                eu.dolor@diam.co.uk   \n",
       "2  Naomi Rodriquez  vulputate.mauris.sagittis@ametconsectetueradip...   \n",
       "3  Jade Cunningham                            malesuada@dignissim.com   \n",
       "4     Cedric Leach     felis.ullamcorper.viverra@egetmollislectus.net   \n",
       "\n",
       "        country  gender        age  annual Salary  credit card debt  \\\n",
       "0      Bulgaria       0  41.851720    62812.09301      11609.380910   \n",
       "1        Belize       0  40.870623    66646.89292       9572.957136   \n",
       "2       Algeria       1  43.152897    53798.55112      11160.355060   \n",
       "3  Cook Islands       1  58.271369    79370.03798      14426.164850   \n",
       "4        Brazil       1  57.313749    59729.15130       5358.712177   \n",
       "\n",
       "     net worth  car purchase amount  \n",
       "0  238961.2505          35321.45877  \n",
       "1  530973.9078          45115.52566  \n",
       "2  638467.1773          42925.70921  \n",
       "3  548599.0524          67422.36313  \n",
       "4  560304.0671          55915.46248  "
      ]
     },
     "execution_count": 2,
     "metadata": {},
     "output_type": "execute_result"
    }
   ],
   "source": [
    "# Loading the dataset.\n",
    "data= pd.read_csv(\"/kaggle/input/ann-car-sales-price-prediction/car_purchasing.csv\", encoding='ISO-8859-1')\n",
    "data.head()"
   ]
  },
  {
   "cell_type": "code",
   "execution_count": 3,
   "id": "db4da9a0",
   "metadata": {
    "execution": {
     "iopub.execute_input": "2025-10-14T07:46:20.019395Z",
     "iopub.status.busy": "2025-10-14T07:46:20.018533Z",
     "iopub.status.idle": "2025-10-14T07:46:20.042583Z",
     "shell.execute_reply": "2025-10-14T07:46:20.041456Z"
    },
    "papermill": {
     "duration": 0.030636,
     "end_time": "2025-10-14T07:46:20.044086",
     "exception": false,
     "start_time": "2025-10-14T07:46:20.013450",
     "status": "completed"
    },
    "tags": []
   },
   "outputs": [
    {
     "name": "stdout",
     "output_type": "stream",
     "text": [
      "<class 'pandas.core.frame.DataFrame'>\n",
      "RangeIndex: 500 entries, 0 to 499\n",
      "Data columns (total 9 columns):\n",
      " #   Column               Non-Null Count  Dtype  \n",
      "---  ------               --------------  -----  \n",
      " 0   customer name        500 non-null    object \n",
      " 1   customer e-mail      500 non-null    object \n",
      " 2   country              500 non-null    object \n",
      " 3   gender               500 non-null    int64  \n",
      " 4   age                  500 non-null    float64\n",
      " 5   annual Salary        500 non-null    float64\n",
      " 6   credit card debt     500 non-null    float64\n",
      " 7   net worth            500 non-null    float64\n",
      " 8   car purchase amount  500 non-null    float64\n",
      "dtypes: float64(5), int64(1), object(3)\n",
      "memory usage: 35.3+ KB\n"
     ]
    }
   ],
   "source": [
    "# Printing the dataset summary.\n",
    "data.info()"
   ]
  },
  {
   "cell_type": "code",
   "execution_count": 4,
   "id": "c996603c",
   "metadata": {
    "execution": {
     "iopub.execute_input": "2025-10-14T07:46:20.054789Z",
     "iopub.status.busy": "2025-10-14T07:46:20.053997Z",
     "iopub.status.idle": "2025-10-14T07:46:20.058771Z",
     "shell.execute_reply": "2025-10-14T07:46:20.057876Z"
    },
    "papermill": {
     "duration": 0.011387,
     "end_time": "2025-10-14T07:46:20.060158",
     "exception": false,
     "start_time": "2025-10-14T07:46:20.048771",
     "status": "completed"
    },
    "tags": []
   },
   "outputs": [
    {
     "name": "stdout",
     "output_type": "stream",
     "text": [
      "Rows ans column in the dataset: (500, 9)\n"
     ]
    }
   ],
   "source": [
    "#Lets see the deminsion of the dataset.\n",
    "print(F\"Rows ans column in the dataset:\",data.shape)"
   ]
  },
  {
   "cell_type": "code",
   "execution_count": 5,
   "id": "b65a6ee0",
   "metadata": {
    "execution": {
     "iopub.execute_input": "2025-10-14T07:46:20.070089Z",
     "iopub.status.busy": "2025-10-14T07:46:20.069800Z",
     "iopub.status.idle": "2025-10-14T07:46:20.075023Z",
     "shell.execute_reply": "2025-10-14T07:46:20.074281Z"
    },
    "papermill": {
     "duration": 0.011678,
     "end_time": "2025-10-14T07:46:20.076281",
     "exception": false,
     "start_time": "2025-10-14T07:46:20.064603",
     "status": "completed"
    },
    "tags": []
   },
   "outputs": [
    {
     "data": {
      "text/plain": [
       "Index(['customer name', 'customer e-mail', 'country', 'gender', 'age',\n",
       "       'annual Salary', 'credit card debt', 'net worth',\n",
       "       'car purchase amount'],\n",
       "      dtype='object')"
      ]
     },
     "execution_count": 5,
     "metadata": {},
     "output_type": "execute_result"
    }
   ],
   "source": [
    "# Let see the columns names of the dataset.\n",
    "data.columns"
   ]
  },
  {
   "cell_type": "code",
   "execution_count": 6,
   "id": "f301d803",
   "metadata": {
    "execution": {
     "iopub.execute_input": "2025-10-14T07:46:20.086064Z",
     "iopub.status.busy": "2025-10-14T07:46:20.085799Z",
     "iopub.status.idle": "2025-10-14T07:46:20.090470Z",
     "shell.execute_reply": "2025-10-14T07:46:20.089599Z"
    },
    "papermill": {
     "duration": 0.011448,
     "end_time": "2025-10-14T07:46:20.092144",
     "exception": false,
     "start_time": "2025-10-14T07:46:20.080696",
     "status": "completed"
    },
    "tags": []
   },
   "outputs": [],
   "source": [
    "#Removing the unwanted spaces from the column.\n",
    "data.columns = data.columns.str.replace(' ', '_')"
   ]
  },
  {
   "cell_type": "code",
   "execution_count": 7,
   "id": "fb05ff53",
   "metadata": {
    "execution": {
     "iopub.execute_input": "2025-10-14T07:46:20.102769Z",
     "iopub.status.busy": "2025-10-14T07:46:20.102013Z",
     "iopub.status.idle": "2025-10-14T07:46:20.108195Z",
     "shell.execute_reply": "2025-10-14T07:46:20.107419Z"
    },
    "papermill": {
     "duration": 0.012638,
     "end_time": "2025-10-14T07:46:20.109379",
     "exception": false,
     "start_time": "2025-10-14T07:46:20.096741",
     "status": "completed"
    },
    "tags": []
   },
   "outputs": [
    {
     "name": "stdout",
     "output_type": "stream",
     "text": [
      "Null Values in the dataset 0\n"
     ]
    }
   ],
   "source": [
    "#Checking the null svalues in the dataset.\n",
    "print(F\"Null Values in the dataset\",data.isnull().sum().sum())"
   ]
  },
  {
   "cell_type": "code",
   "execution_count": 8,
   "id": "329327d1",
   "metadata": {
    "execution": {
     "iopub.execute_input": "2025-10-14T07:46:20.119815Z",
     "iopub.status.busy": "2025-10-14T07:46:20.119438Z",
     "iopub.status.idle": "2025-10-14T07:46:20.128105Z",
     "shell.execute_reply": "2025-10-14T07:46:20.127269Z"
    },
    "papermill": {
     "duration": 0.01561,
     "end_time": "2025-10-14T07:46:20.129541",
     "exception": false,
     "start_time": "2025-10-14T07:46:20.113931",
     "status": "completed"
    },
    "tags": []
   },
   "outputs": [],
   "source": [
    "# we have to chanage contiues values from Float to Int.\n",
    "continues_col= ['age','annual_Salary', 'credit_card_debt', 'net_worth','car_purchase_amount']\n",
    "data[continues_col] = data[continues_col].astype(int)"
   ]
  },
  {
   "cell_type": "code",
   "execution_count": 9,
   "id": "f6db6b9a",
   "metadata": {
    "execution": {
     "iopub.execute_input": "2025-10-14T07:46:20.141125Z",
     "iopub.status.busy": "2025-10-14T07:46:20.140400Z",
     "iopub.status.idle": "2025-10-14T07:46:20.151247Z",
     "shell.execute_reply": "2025-10-14T07:46:20.150361Z"
    },
    "papermill": {
     "duration": 0.018415,
     "end_time": "2025-10-14T07:46:20.152680",
     "exception": false,
     "start_time": "2025-10-14T07:46:20.134265",
     "status": "completed"
    },
    "tags": []
   },
   "outputs": [
    {
     "data": {
      "text/html": [
       "<div>\n",
       "<style scoped>\n",
       "    .dataframe tbody tr th:only-of-type {\n",
       "        vertical-align: middle;\n",
       "    }\n",
       "\n",
       "    .dataframe tbody tr th {\n",
       "        vertical-align: top;\n",
       "    }\n",
       "\n",
       "    .dataframe thead th {\n",
       "        text-align: right;\n",
       "    }\n",
       "</style>\n",
       "<table border=\"1\" class=\"dataframe\">\n",
       "  <thead>\n",
       "    <tr style=\"text-align: right;\">\n",
       "      <th></th>\n",
       "      <th>customer_name</th>\n",
       "      <th>customer_e-mail</th>\n",
       "      <th>country</th>\n",
       "      <th>gender</th>\n",
       "      <th>age</th>\n",
       "      <th>annual_Salary</th>\n",
       "      <th>credit_card_debt</th>\n",
       "      <th>net_worth</th>\n",
       "      <th>car_purchase_amount</th>\n",
       "    </tr>\n",
       "  </thead>\n",
       "  <tbody>\n",
       "    <tr>\n",
       "      <th>0</th>\n",
       "      <td>Martina Avila</td>\n",
       "      <td>cubilia.Curae.Phasellus@quisaccumsanconvallis.edu</td>\n",
       "      <td>Bulgaria</td>\n",
       "      <td>0</td>\n",
       "      <td>41</td>\n",
       "      <td>62812</td>\n",
       "      <td>11609</td>\n",
       "      <td>238961</td>\n",
       "      <td>35321</td>\n",
       "    </tr>\n",
       "    <tr>\n",
       "      <th>1</th>\n",
       "      <td>Harlan Barnes</td>\n",
       "      <td>eu.dolor@diam.co.uk</td>\n",
       "      <td>Belize</td>\n",
       "      <td>0</td>\n",
       "      <td>40</td>\n",
       "      <td>66646</td>\n",
       "      <td>9572</td>\n",
       "      <td>530973</td>\n",
       "      <td>45115</td>\n",
       "    </tr>\n",
       "    <tr>\n",
       "      <th>2</th>\n",
       "      <td>Naomi Rodriquez</td>\n",
       "      <td>vulputate.mauris.sagittis@ametconsectetueradip...</td>\n",
       "      <td>Algeria</td>\n",
       "      <td>1</td>\n",
       "      <td>43</td>\n",
       "      <td>53798</td>\n",
       "      <td>11160</td>\n",
       "      <td>638467</td>\n",
       "      <td>42925</td>\n",
       "    </tr>\n",
       "    <tr>\n",
       "      <th>3</th>\n",
       "      <td>Jade Cunningham</td>\n",
       "      <td>malesuada@dignissim.com</td>\n",
       "      <td>Cook Islands</td>\n",
       "      <td>1</td>\n",
       "      <td>58</td>\n",
       "      <td>79370</td>\n",
       "      <td>14426</td>\n",
       "      <td>548599</td>\n",
       "      <td>67422</td>\n",
       "    </tr>\n",
       "    <tr>\n",
       "      <th>4</th>\n",
       "      <td>Cedric Leach</td>\n",
       "      <td>felis.ullamcorper.viverra@egetmollislectus.net</td>\n",
       "      <td>Brazil</td>\n",
       "      <td>1</td>\n",
       "      <td>57</td>\n",
       "      <td>59729</td>\n",
       "      <td>5358</td>\n",
       "      <td>560304</td>\n",
       "      <td>55915</td>\n",
       "    </tr>\n",
       "  </tbody>\n",
       "</table>\n",
       "</div>"
      ],
      "text/plain": [
       "     customer_name                                    customer_e-mail  \\\n",
       "0    Martina Avila  cubilia.Curae.Phasellus@quisaccumsanconvallis.edu   \n",
       "1    Harlan Barnes                                eu.dolor@diam.co.uk   \n",
       "2  Naomi Rodriquez  vulputate.mauris.sagittis@ametconsectetueradip...   \n",
       "3  Jade Cunningham                            malesuada@dignissim.com   \n",
       "4     Cedric Leach     felis.ullamcorper.viverra@egetmollislectus.net   \n",
       "\n",
       "        country  gender  age  annual_Salary  credit_card_debt  net_worth  \\\n",
       "0      Bulgaria       0   41          62812             11609     238961   \n",
       "1        Belize       0   40          66646              9572     530973   \n",
       "2       Algeria       1   43          53798             11160     638467   \n",
       "3  Cook Islands       1   58          79370             14426     548599   \n",
       "4        Brazil       1   57          59729              5358     560304   \n",
       "\n",
       "   car_purchase_amount  \n",
       "0                35321  \n",
       "1                45115  \n",
       "2                42925  \n",
       "3                67422  \n",
       "4                55915  "
      ]
     },
     "execution_count": 9,
     "metadata": {},
     "output_type": "execute_result"
    }
   ],
   "source": [
    "data.head()"
   ]
  },
  {
   "cell_type": "code",
   "execution_count": 10,
   "id": "f18c647c",
   "metadata": {
    "execution": {
     "iopub.execute_input": "2025-10-14T07:46:20.163335Z",
     "iopub.status.busy": "2025-10-14T07:46:20.163054Z",
     "iopub.status.idle": "2025-10-14T07:46:20.174580Z",
     "shell.execute_reply": "2025-10-14T07:46:20.173864Z"
    },
    "papermill": {
     "duration": 0.018366,
     "end_time": "2025-10-14T07:46:20.175845",
     "exception": false,
     "start_time": "2025-10-14T07:46:20.157479",
     "status": "completed"
    },
    "tags": []
   },
   "outputs": [
    {
     "data": {
      "text/html": [
       "<div>\n",
       "<style scoped>\n",
       "    .dataframe tbody tr th:only-of-type {\n",
       "        vertical-align: middle;\n",
       "    }\n",
       "\n",
       "    .dataframe tbody tr th {\n",
       "        vertical-align: top;\n",
       "    }\n",
       "\n",
       "    .dataframe thead th {\n",
       "        text-align: right;\n",
       "    }\n",
       "</style>\n",
       "<table border=\"1\" class=\"dataframe\">\n",
       "  <thead>\n",
       "    <tr style=\"text-align: right;\">\n",
       "      <th></th>\n",
       "      <th>gender</th>\n",
       "      <th>age</th>\n",
       "      <th>annual_Salary</th>\n",
       "      <th>credit_card_debt</th>\n",
       "      <th>net_worth</th>\n",
       "      <th>car_purchase_amount</th>\n",
       "    </tr>\n",
       "  </thead>\n",
       "  <tbody>\n",
       "    <tr>\n",
       "      <th>0</th>\n",
       "      <td>0</td>\n",
       "      <td>41</td>\n",
       "      <td>62812</td>\n",
       "      <td>11609</td>\n",
       "      <td>238961</td>\n",
       "      <td>35321</td>\n",
       "    </tr>\n",
       "    <tr>\n",
       "      <th>1</th>\n",
       "      <td>0</td>\n",
       "      <td>40</td>\n",
       "      <td>66646</td>\n",
       "      <td>9572</td>\n",
       "      <td>530973</td>\n",
       "      <td>45115</td>\n",
       "    </tr>\n",
       "    <tr>\n",
       "      <th>2</th>\n",
       "      <td>1</td>\n",
       "      <td>43</td>\n",
       "      <td>53798</td>\n",
       "      <td>11160</td>\n",
       "      <td>638467</td>\n",
       "      <td>42925</td>\n",
       "    </tr>\n",
       "    <tr>\n",
       "      <th>3</th>\n",
       "      <td>1</td>\n",
       "      <td>58</td>\n",
       "      <td>79370</td>\n",
       "      <td>14426</td>\n",
       "      <td>548599</td>\n",
       "      <td>67422</td>\n",
       "    </tr>\n",
       "    <tr>\n",
       "      <th>4</th>\n",
       "      <td>1</td>\n",
       "      <td>57</td>\n",
       "      <td>59729</td>\n",
       "      <td>5358</td>\n",
       "      <td>560304</td>\n",
       "      <td>55915</td>\n",
       "    </tr>\n",
       "  </tbody>\n",
       "</table>\n",
       "</div>"
      ],
      "text/plain": [
       "   gender  age  annual_Salary  credit_card_debt  net_worth  \\\n",
       "0       0   41          62812             11609     238961   \n",
       "1       0   40          66646              9572     530973   \n",
       "2       1   43          53798             11160     638467   \n",
       "3       1   58          79370             14426     548599   \n",
       "4       1   57          59729              5358     560304   \n",
       "\n",
       "   car_purchase_amount  \n",
       "0                35321  \n",
       "1                45115  \n",
       "2                42925  \n",
       "3                67422  \n",
       "4                55915  "
      ]
     },
     "execution_count": 10,
     "metadata": {},
     "output_type": "execute_result"
    }
   ],
   "source": [
    "#Dropping the columns \n",
    "data.drop([\"customer_name\",\"customer_e-mail\",\"country\"], axis=1, inplace=True)\n",
    "data.head()"
   ]
  },
  {
   "cell_type": "code",
   "execution_count": 11,
   "id": "32368fc5",
   "metadata": {
    "execution": {
     "iopub.execute_input": "2025-10-14T07:46:20.186522Z",
     "iopub.status.busy": "2025-10-14T07:46:20.186207Z",
     "iopub.status.idle": "2025-10-14T07:46:20.451372Z",
     "shell.execute_reply": "2025-10-14T07:46:20.450449Z"
    },
    "papermill": {
     "duration": 0.272241,
     "end_time": "2025-10-14T07:46:20.452815",
     "exception": false,
     "start_time": "2025-10-14T07:46:20.180574",
     "status": "completed"
    },
    "tags": []
   },
   "outputs": [
    {
     "name": "stdout",
     "output_type": "stream",
     "text": [
      "(400, 5)\n",
      "(400, 1)\n",
      "(100, 5)\n",
      "(100, 1)\n"
     ]
    }
   ],
   "source": [
    "#Spliting the dataset.\n",
    "from sklearn.model_selection import train_test_split \n",
    "\n",
    "X= data.drop([\"car_purchase_amount\"], axis=1)\n",
    "y= data[\"car_purchase_amount\"].values.reshape(-1,1)\n",
    "\n",
    "X_train, X_test, y_train, y_test= train_test_split(X,y, test_size=0.2, random_state=2410)\n",
    "\n",
    "print(X_train.shape)\n",
    "print(y_train.shape)\n",
    "print(X_test.shape)\n",
    "print(y_test.shape)"
   ]
  },
  {
   "cell_type": "code",
   "execution_count": 12,
   "id": "dd1efbe6",
   "metadata": {
    "execution": {
     "iopub.execute_input": "2025-10-14T07:46:20.463651Z",
     "iopub.status.busy": "2025-10-14T07:46:20.463341Z",
     "iopub.status.idle": "2025-10-14T07:46:20.474446Z",
     "shell.execute_reply": "2025-10-14T07:46:20.473538Z"
    },
    "papermill": {
     "duration": 0.01817,
     "end_time": "2025-10-14T07:46:20.476016",
     "exception": false,
     "start_time": "2025-10-14T07:46:20.457846",
     "status": "completed"
    },
    "tags": []
   },
   "outputs": [
    {
     "name": "stdout",
     "output_type": "stream",
     "text": [
      "(400, 5)\n",
      "(400, 1)\n",
      "(100, 5)\n",
      "(100, 1)\n"
     ]
    }
   ],
   "source": [
    "# Let us scale the dataset(Min-Max Scaler)\n",
    "from sklearn.preprocessing import MinMaxScaler\n",
    "\n",
    "X_scaler= MinMaxScaler()\n",
    "y_scaler= MinMaxScaler()\n",
    "\n",
    "X_train_scaled= X_scaler.fit_transform(X_train)\n",
    "X_test_scaled= X_scaler.transform(X_test)\n",
    "\n",
    "y_train_scaled= y_scaler.fit_transform(y_train)\n",
    "y_test_scaled= y_scaler.transform(y_test)\n",
    "\n",
    "print(X_train_scaled.shape)\n",
    "print(y_train_scaled.shape)\n",
    "print(X_test_scaled.shape)\n",
    "print(y_test_scaled.shape)"
   ]
  },
  {
   "cell_type": "markdown",
   "id": "62d69b92",
   "metadata": {
    "papermill": {
     "duration": 0.004945,
     "end_time": "2025-10-14T07:46:20.486413",
     "exception": false,
     "start_time": "2025-10-14T07:46:20.481468",
     "status": "completed"
    },
    "tags": []
   },
   "source": [
    "## Model Building"
   ]
  },
  {
   "cell_type": "code",
   "execution_count": 13,
   "id": "80b22d76",
   "metadata": {
    "execution": {
     "iopub.execute_input": "2025-10-14T07:46:20.497701Z",
     "iopub.status.busy": "2025-10-14T07:46:20.496978Z",
     "iopub.status.idle": "2025-10-14T07:46:36.195014Z",
     "shell.execute_reply": "2025-10-14T07:46:36.194245Z"
    },
    "papermill": {
     "duration": 15.705008,
     "end_time": "2025-10-14T07:46:36.196490",
     "exception": false,
     "start_time": "2025-10-14T07:46:20.491482",
     "status": "completed"
    },
    "tags": []
   },
   "outputs": [
    {
     "name": "stderr",
     "output_type": "stream",
     "text": [
      "2025-10-14 07:46:22.476249: E external/local_xla/xla/stream_executor/cuda/cuda_fft.cc:477] Unable to register cuFFT factory: Attempting to register factory for plugin cuFFT when one has already been registered\n",
      "WARNING: All log messages before absl::InitializeLog() is called are written to STDERR\n",
      "E0000 00:00:1760427982.727925      13 cuda_dnn.cc:8310] Unable to register cuDNN factory: Attempting to register factory for plugin cuDNN when one has already been registered\n",
      "E0000 00:00:1760427982.789142      13 cuda_blas.cc:1418] Unable to register cuBLAS factory: Attempting to register factory for plugin cuBLAS when one has already been registered\n"
     ]
    }
   ],
   "source": [
    "# Important Libraries.\n",
    "import warnings\n",
    "warnings.filterwarnings('ignore')\n",
    "from tensorflow.keras.models import Sequential\n",
    "from tensorflow.keras.layers import Dense, Activation\n",
    "from sklearn.metrics import mean_squared_error, mean_absolute_error, r2_score"
   ]
  },
  {
   "cell_type": "code",
   "execution_count": 14,
   "id": "a58d2e9d",
   "metadata": {
    "execution": {
     "iopub.execute_input": "2025-10-14T07:46:36.208132Z",
     "iopub.status.busy": "2025-10-14T07:46:36.207210Z",
     "iopub.status.idle": "2025-10-14T07:46:36.317850Z",
     "shell.execute_reply": "2025-10-14T07:46:36.316854Z"
    },
    "papermill": {
     "duration": 0.118227,
     "end_time": "2025-10-14T07:46:36.319742",
     "exception": false,
     "start_time": "2025-10-14T07:46:36.201515",
     "status": "completed"
    },
    "tags": []
   },
   "outputs": [
    {
     "name": "stderr",
     "output_type": "stream",
     "text": [
      "2025-10-14 07:46:36.217123: E external/local_xla/xla/stream_executor/cuda/cuda_driver.cc:152] failed call to cuInit: INTERNAL: CUDA error: Failed call to cuInit: UNKNOWN ERROR (303)\n"
     ]
    }
   ],
   "source": [
    "model= Sequential()\n",
    "model.add(Dense(64,input_dim=X_train_scaled.shape[1], activation='relu'))\n",
    "model.add(Dense(32,activation='relu'))\n",
    "model.add(Dense(16,activation='relu'))\n",
    "model.add(Dense(1))"
   ]
  },
  {
   "cell_type": "code",
   "execution_count": 15,
   "id": "5850047e",
   "metadata": {
    "execution": {
     "iopub.execute_input": "2025-10-14T07:46:36.336024Z",
     "iopub.status.busy": "2025-10-14T07:46:36.335146Z",
     "iopub.status.idle": "2025-10-14T07:46:36.357595Z",
     "shell.execute_reply": "2025-10-14T07:46:36.356484Z"
    },
    "papermill": {
     "duration": 0.030767,
     "end_time": "2025-10-14T07:46:36.359050",
     "exception": false,
     "start_time": "2025-10-14T07:46:36.328283",
     "status": "completed"
    },
    "tags": []
   },
   "outputs": [
    {
     "data": {
      "text/html": [
       "<pre style=\"white-space:pre;overflow-x:auto;line-height:normal;font-family:Menlo,'DejaVu Sans Mono',consolas,'Courier New',monospace\"><span style=\"font-weight: bold\">Model: \"sequential\"</span>\n",
       "</pre>\n"
      ],
      "text/plain": [
       "\u001b[1mModel: \"sequential\"\u001b[0m\n"
      ]
     },
     "metadata": {},
     "output_type": "display_data"
    },
    {
     "data": {
      "text/html": [
       "<pre style=\"white-space:pre;overflow-x:auto;line-height:normal;font-family:Menlo,'DejaVu Sans Mono',consolas,'Courier New',monospace\">┏━━━━━━━━━━━━━━━━━━━━━━━━━━━━━━━━━┳━━━━━━━━━━━━━━━━━━━━━━━━┳━━━━━━━━━━━━━━━┓\n",
       "┃<span style=\"font-weight: bold\"> Layer (type)                    </span>┃<span style=\"font-weight: bold\"> Output Shape           </span>┃<span style=\"font-weight: bold\">       Param # </span>┃\n",
       "┡━━━━━━━━━━━━━━━━━━━━━━━━━━━━━━━━━╇━━━━━━━━━━━━━━━━━━━━━━━━╇━━━━━━━━━━━━━━━┩\n",
       "│ dense (<span style=\"color: #0087ff; text-decoration-color: #0087ff\">Dense</span>)                   │ (<span style=\"color: #00d7ff; text-decoration-color: #00d7ff\">None</span>, <span style=\"color: #00af00; text-decoration-color: #00af00\">64</span>)             │           <span style=\"color: #00af00; text-decoration-color: #00af00\">384</span> │\n",
       "├─────────────────────────────────┼────────────────────────┼───────────────┤\n",
       "│ dense_1 (<span style=\"color: #0087ff; text-decoration-color: #0087ff\">Dense</span>)                 │ (<span style=\"color: #00d7ff; text-decoration-color: #00d7ff\">None</span>, <span style=\"color: #00af00; text-decoration-color: #00af00\">32</span>)             │         <span style=\"color: #00af00; text-decoration-color: #00af00\">2,080</span> │\n",
       "├─────────────────────────────────┼────────────────────────┼───────────────┤\n",
       "│ dense_2 (<span style=\"color: #0087ff; text-decoration-color: #0087ff\">Dense</span>)                 │ (<span style=\"color: #00d7ff; text-decoration-color: #00d7ff\">None</span>, <span style=\"color: #00af00; text-decoration-color: #00af00\">16</span>)             │           <span style=\"color: #00af00; text-decoration-color: #00af00\">528</span> │\n",
       "├─────────────────────────────────┼────────────────────────┼───────────────┤\n",
       "│ dense_3 (<span style=\"color: #0087ff; text-decoration-color: #0087ff\">Dense</span>)                 │ (<span style=\"color: #00d7ff; text-decoration-color: #00d7ff\">None</span>, <span style=\"color: #00af00; text-decoration-color: #00af00\">1</span>)              │            <span style=\"color: #00af00; text-decoration-color: #00af00\">17</span> │\n",
       "└─────────────────────────────────┴────────────────────────┴───────────────┘\n",
       "</pre>\n"
      ],
      "text/plain": [
       "┏━━━━━━━━━━━━━━━━━━━━━━━━━━━━━━━━━┳━━━━━━━━━━━━━━━━━━━━━━━━┳━━━━━━━━━━━━━━━┓\n",
       "┃\u001b[1m \u001b[0m\u001b[1mLayer (type)                   \u001b[0m\u001b[1m \u001b[0m┃\u001b[1m \u001b[0m\u001b[1mOutput Shape          \u001b[0m\u001b[1m \u001b[0m┃\u001b[1m \u001b[0m\u001b[1m      Param #\u001b[0m\u001b[1m \u001b[0m┃\n",
       "┡━━━━━━━━━━━━━━━━━━━━━━━━━━━━━━━━━╇━━━━━━━━━━━━━━━━━━━━━━━━╇━━━━━━━━━━━━━━━┩\n",
       "│ dense (\u001b[38;5;33mDense\u001b[0m)                   │ (\u001b[38;5;45mNone\u001b[0m, \u001b[38;5;34m64\u001b[0m)             │           \u001b[38;5;34m384\u001b[0m │\n",
       "├─────────────────────────────────┼────────────────────────┼───────────────┤\n",
       "│ dense_1 (\u001b[38;5;33mDense\u001b[0m)                 │ (\u001b[38;5;45mNone\u001b[0m, \u001b[38;5;34m32\u001b[0m)             │         \u001b[38;5;34m2,080\u001b[0m │\n",
       "├─────────────────────────────────┼────────────────────────┼───────────────┤\n",
       "│ dense_2 (\u001b[38;5;33mDense\u001b[0m)                 │ (\u001b[38;5;45mNone\u001b[0m, \u001b[38;5;34m16\u001b[0m)             │           \u001b[38;5;34m528\u001b[0m │\n",
       "├─────────────────────────────────┼────────────────────────┼───────────────┤\n",
       "│ dense_3 (\u001b[38;5;33mDense\u001b[0m)                 │ (\u001b[38;5;45mNone\u001b[0m, \u001b[38;5;34m1\u001b[0m)              │            \u001b[38;5;34m17\u001b[0m │\n",
       "└─────────────────────────────────┴────────────────────────┴───────────────┘\n"
      ]
     },
     "metadata": {},
     "output_type": "display_data"
    },
    {
     "data": {
      "text/html": [
       "<pre style=\"white-space:pre;overflow-x:auto;line-height:normal;font-family:Menlo,'DejaVu Sans Mono',consolas,'Courier New',monospace\"><span style=\"font-weight: bold\"> Total params: </span><span style=\"color: #00af00; text-decoration-color: #00af00\">3,009</span> (11.75 KB)\n",
       "</pre>\n"
      ],
      "text/plain": [
       "\u001b[1m Total params: \u001b[0m\u001b[38;5;34m3,009\u001b[0m (11.75 KB)\n"
      ]
     },
     "metadata": {},
     "output_type": "display_data"
    },
    {
     "data": {
      "text/html": [
       "<pre style=\"white-space:pre;overflow-x:auto;line-height:normal;font-family:Menlo,'DejaVu Sans Mono',consolas,'Courier New',monospace\"><span style=\"font-weight: bold\"> Trainable params: </span><span style=\"color: #00af00; text-decoration-color: #00af00\">3,009</span> (11.75 KB)\n",
       "</pre>\n"
      ],
      "text/plain": [
       "\u001b[1m Trainable params: \u001b[0m\u001b[38;5;34m3,009\u001b[0m (11.75 KB)\n"
      ]
     },
     "metadata": {},
     "output_type": "display_data"
    },
    {
     "data": {
      "text/html": [
       "<pre style=\"white-space:pre;overflow-x:auto;line-height:normal;font-family:Menlo,'DejaVu Sans Mono',consolas,'Courier New',monospace\"><span style=\"font-weight: bold\"> Non-trainable params: </span><span style=\"color: #00af00; text-decoration-color: #00af00\">0</span> (0.00 B)\n",
       "</pre>\n"
      ],
      "text/plain": [
       "\u001b[1m Non-trainable params: \u001b[0m\u001b[38;5;34m0\u001b[0m (0.00 B)\n"
      ]
     },
     "metadata": {},
     "output_type": "display_data"
    }
   ],
   "source": [
    "#Let see the summary\n",
    "model.summary()"
   ]
  },
  {
   "cell_type": "code",
   "execution_count": 16,
   "id": "41c1aafe",
   "metadata": {
    "execution": {
     "iopub.execute_input": "2025-10-14T07:46:36.376238Z",
     "iopub.status.busy": "2025-10-14T07:46:36.375952Z",
     "iopub.status.idle": "2025-10-14T07:46:36.389270Z",
     "shell.execute_reply": "2025-10-14T07:46:36.388592Z"
    },
    "papermill": {
     "duration": 0.021824,
     "end_time": "2025-10-14T07:46:36.390656",
     "exception": false,
     "start_time": "2025-10-14T07:46:36.368832",
     "status": "completed"
    },
    "tags": []
   },
   "outputs": [],
   "source": [
    "#compileing the model.\n",
    "model.compile(loss='mse',optimizer='adam',metrics=['mse'])"
   ]
  },
  {
   "cell_type": "code",
   "execution_count": 17,
   "id": "3a7df1f8",
   "metadata": {
    "execution": {
     "iopub.execute_input": "2025-10-14T07:46:36.402613Z",
     "iopub.status.busy": "2025-10-14T07:46:36.402312Z",
     "iopub.status.idle": "2025-10-14T07:47:07.497744Z",
     "shell.execute_reply": "2025-10-14T07:47:07.496822Z"
    },
    "papermill": {
     "duration": 31.107648,
     "end_time": "2025-10-14T07:47:07.503859",
     "exception": false,
     "start_time": "2025-10-14T07:46:36.396211",
     "status": "completed"
    },
    "tags": []
   },
   "outputs": [
    {
     "name": "stdout",
     "output_type": "stream",
     "text": [
      "Training Completed!\n"
     ]
    }
   ],
   "source": [
    "history=model.fit(X_train_scaled, y_train_scaled, epochs=300, batch_size=32, validation_split=0.2, verbose=0)\n",
    "print(\"Training Completed!\")"
   ]
  },
  {
   "cell_type": "code",
   "execution_count": 18,
   "id": "30079c0a",
   "metadata": {
    "execution": {
     "iopub.execute_input": "2025-10-14T07:47:07.516346Z",
     "iopub.status.busy": "2025-10-14T07:47:07.516035Z",
     "iopub.status.idle": "2025-10-14T07:47:07.731109Z",
     "shell.execute_reply": "2025-10-14T07:47:07.730004Z"
    },
    "papermill": {
     "duration": 0.223364,
     "end_time": "2025-10-14T07:47:07.732769",
     "exception": false,
     "start_time": "2025-10-14T07:47:07.509405",
     "status": "completed"
    },
    "tags": []
   },
   "outputs": [
    {
     "name": "stdout",
     "output_type": "stream",
     "text": [
      "\u001b[1m4/4\u001b[0m \u001b[32m━━━━━━━━━━━━━━━━━━━━\u001b[0m\u001b[37m\u001b[0m \u001b[1m0s\u001b[0m 23ms/step\n"
     ]
    }
   ],
   "source": [
    "#Prediction on unseen data\n",
    "y_pred_scaled= model.predict(X_test_scaled)\n",
    "y_pred= y_scaler.inverse_transform(y_pred_scaled)\n",
    "y_test_orignal= y_scaler.inverse_transform(y_test_scaled)"
   ]
  },
  {
   "cell_type": "code",
   "execution_count": 19,
   "id": "bdab45ae",
   "metadata": {
    "execution": {
     "iopub.execute_input": "2025-10-14T07:47:07.745704Z",
     "iopub.status.busy": "2025-10-14T07:47:07.745352Z",
     "iopub.status.idle": "2025-10-14T07:47:07.753209Z",
     "shell.execute_reply": "2025-10-14T07:47:07.752347Z"
    },
    "papermill": {
     "duration": 0.015769,
     "end_time": "2025-10-14T07:47:07.754563",
     "exception": false,
     "start_time": "2025-10-14T07:47:07.738794",
     "status": "completed"
    },
    "tags": []
   },
   "outputs": [
    {
     "name": "stdout",
     "output_type": "stream",
     "text": [
      "Model Evaluation:\n",
      "Mean Squared Error: 168003.61597134665\n",
      "Root Mean Squared Error: 333.17729492187556\n",
      "Mean Absolute Error: 333.17729492187556\n",
      "R2 Score: 0.9987549369409533\n"
     ]
    }
   ],
   "source": [
    "#Evaluate the Model\n",
    "mse= mean_squared_error(y_test_orignal, y_pred)\n",
    "rmse= np.sqrt(mse)\n",
    "mae= mean_absolute_error(y_test_orignal, y_pred)\n",
    "r2= r2_score(y_test_orignal, y_pred)\n",
    "\n",
    "print(f\"Model Evaluation:\")\n",
    "print(f\"Mean Squared Error:\", mse)\n",
    "print(f\"Root Mean Squared Error:\", mae)\n",
    "print(f\"Mean Absolute Error:\", mae)\n",
    "print(f\"R2 Score:\",r2)"
   ]
  },
  {
   "cell_type": "code",
   "execution_count": 20,
   "id": "3a2ca2a3",
   "metadata": {
    "execution": {
     "iopub.execute_input": "2025-10-14T07:47:07.767478Z",
     "iopub.status.busy": "2025-10-14T07:47:07.767188Z",
     "iopub.status.idle": "2025-10-14T07:47:08.058373Z",
     "shell.execute_reply": "2025-10-14T07:47:08.057562Z"
    },
    "papermill": {
     "duration": 0.299634,
     "end_time": "2025-10-14T07:47:08.059958",
     "exception": false,
     "start_time": "2025-10-14T07:47:07.760324",
     "status": "completed"
    },
    "tags": []
   },
   "outputs": [
    {
     "data": {
      "image/png": "[encoded data removed]",
      "text/plain": [
       "<Figure size 800x500 with 1 Axes>"
      ]
     },
     "metadata": {},
     "output_type": "display_data"
    }
   ],
   "source": [
    "#Ploting Training Vs Validation Loss\n",
    "plt.figure(figsize=(8,5))\n",
    "plt.plot(history.history['loss'], label='Training Loss')\n",
    "plt.plot(history.history['val_loss'], label='Validation Loss', linestyle='--')\n",
    "plt.title('Training Vs Validation Loss')\n",
    "plt.xlabel('Epochs')\n",
    "plt.ylabel('Loss (MSE)')\n",
    "plt.legend()\n",
    "plt.show()"
   ]
  },
  {
   "cell_type": "code",
   "execution_count": 21,
   "id": "65af3e09",
   "metadata": {
    "execution": {
     "iopub.execute_input": "2025-10-14T07:47:08.074885Z",
     "iopub.status.busy": "2025-10-14T07:47:08.073722Z",
     "iopub.status.idle": "2025-10-14T07:47:08.273163Z",
     "shell.execute_reply": "2025-10-14T07:47:08.272202Z"
    },
    "papermill": {
     "duration": 0.208387,
     "end_time": "2025-10-14T07:47:08.274905",
     "exception": false,
     "start_time": "2025-10-14T07:47:08.066518",
     "status": "completed"
    },
    "tags": []
   },
   "outputs": [
    {
     "data": {
      "image/png": "[encoded data removed]",
      "text/plain": [
       "<Figure size 700x600 with 1 Axes>"
      ]
     },
     "metadata": {},
     "output_type": "display_data"
    }
   ],
   "source": [
    "#Ploting Actual Vs Prediction\n",
    "plt.figure(figsize=(7,6))\n",
    "plt.scatter(y_test_orignal, y_pred, alpha=0.7, color='royalblue')\n",
    "plt.plot([y_test_orignal.min(), y_test_orignal.max()],[y_test_orignal.min(), y_test_orignal.max()],'r--',lw=2)\n",
    "plt.title('Actual Vs Predicted Car Price')\n",
    "plt.xlabel('Actual Car Price')\n",
    "plt.ylabel('Predictive Car Price')\n",
    "plt.show()"
   ]
  },
  {
   "cell_type": "code",
   "execution_count": 22,
   "id": "5bcd3c8d",
   "metadata": {
    "execution": {
     "iopub.execute_input": "2025-10-14T07:47:08.291585Z",
     "iopub.status.busy": "2025-10-14T07:47:08.291271Z",
     "iopub.status.idle": "2025-10-14T07:47:08.300424Z",
     "shell.execute_reply": "2025-10-14T07:47:08.299693Z"
    },
    "papermill": {
     "duration": 0.019032,
     "end_time": "2025-10-14T07:47:08.301722",
     "exception": false,
     "start_time": "2025-10-14T07:47:08.282690",
     "status": "completed"
    },
    "tags": []
   },
   "outputs": [
    {
     "data": {
      "text/html": [
       "<div>\n",
       "<style scoped>\n",
       "    .dataframe tbody tr th:only-of-type {\n",
       "        vertical-align: middle;\n",
       "    }\n",
       "\n",
       "    .dataframe tbody tr th {\n",
       "        vertical-align: top;\n",
       "    }\n",
       "\n",
       "    .dataframe thead th {\n",
       "        text-align: right;\n",
       "    }\n",
       "</style>\n",
       "<table border=\"1\" class=\"dataframe\">\n",
       "  <thead>\n",
       "    <tr style=\"text-align: right;\">\n",
       "      <th></th>\n",
       "      <th>Actual</th>\n",
       "      <th>Predictive</th>\n",
       "    </tr>\n",
       "  </thead>\n",
       "  <tbody>\n",
       "    <tr>\n",
       "      <th>0</th>\n",
       "      <td>46135.0</td>\n",
       "      <td>46592.511719</td>\n",
       "    </tr>\n",
       "    <tr>\n",
       "      <th>1</th>\n",
       "      <td>56510.0</td>\n",
       "      <td>56944.488281</td>\n",
       "    </tr>\n",
       "    <tr>\n",
       "      <th>2</th>\n",
       "      <td>51941.0</td>\n",
       "      <td>52152.714844</td>\n",
       "    </tr>\n",
       "    <tr>\n",
       "      <th>3</th>\n",
       "      <td>35321.0</td>\n",
       "      <td>35195.734375</td>\n",
       "    </tr>\n",
       "    <tr>\n",
       "      <th>4</th>\n",
       "      <td>59538.0</td>\n",
       "      <td>59367.343750</td>\n",
       "    </tr>\n",
       "  </tbody>\n",
       "</table>\n",
       "</div>"
      ],
      "text/plain": [
       "    Actual    Predictive\n",
       "0  46135.0  46592.511719\n",
       "1  56510.0  56944.488281\n",
       "2  51941.0  52152.714844\n",
       "3  35321.0  35195.734375\n",
       "4  59538.0  59367.343750"
      ]
     },
     "execution_count": 22,
     "metadata": {},
     "output_type": "execute_result"
    }
   ],
   "source": [
    "#View a Comparision\n",
    "compare= pd.DataFrame({'Actual': y_test_orignal.flatten(),\n",
    "                       'Predictive': y_pred.flatten()})\n",
    "\n",
    "compare.head()"
   ]
  }
 ],
 "metadata": {
  "kaggle": {
   "accelerator": "none",
   "dataSources": [
    {
     "datasetId": 2515235,
     "sourceId": 4268549,
     "sourceType": "datasetVersion"
    }
   ],
   "dockerImageVersionId": 31153,
   "isGpuEnabled": false,
   "isInternetEnabled": true,
   "language": "python",
   "sourceType": "notebook"
  },
  "kernelspec": {
   "display_name": "Python 3",
   "language": "python",
   "name": "python3"
  },
  "language_info": {
   "codemirror_mode": {
    "name": "ipython",
    "version": 3
   },
   "file_extension": ".py",
   "mimetype": "text/x-python",
   "name": "python",
   "nbconvert_exporter": "python",
   "pygments_lexer": "ipython3",
   "version": "3.11.13"
  },
  "papermill": {
   "default_parameters": {},
   "duration": 59.154592,
   "end_time": "2025-10-14T07:47:11.182705",
   "environment_variables": {},
   "exception": null,
   "input_path": "__notebook__.ipynb",
   "output_path": "__notebook__.ipynb",
   "parameters": {},
   "start_time": "2025-10-14T07:46:12.028113",
   "version": "2.6.0"
  }
 },
 "nbformat": 4,
 "nbformat_minor": 5
}
